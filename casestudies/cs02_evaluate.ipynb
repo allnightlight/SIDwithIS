{
 "cells": [
  {
   "cell_type": "code",
   "execution_count": null,
   "metadata": {},
   "outputs": [],
   "source": [
    "# To mount\n",
    "from google.colab import drive\n",
    "drive.mount('/content/drive')\n",
    "\n",
    "# # To initialize the work environment\n",
    "# %cd /content/drive/My Drive/\n",
    "# !git clone https://github.com/allnightlight/SIDwithIS/casestudies -b casestudies\n",
    "\n",
    "# # To update the work environment\n",
    "# %cd /content/drive/My Drive/SIDwithIS\n",
    "# !git pull\n",
    "\n",
    "%cd /content/drive/My Drive/SIDwithIS/casestudies"
   ]
  },
  {
   "cell_type": "code",
   "execution_count": null,
   "metadata": {},
   "outputs": [],
   "source": [
    "import os\n",
    "import sys\n",
    "import numpy as np\n",
    "import pandas as pd\n",
    "\n",
    "sys.path.append(\"../framework/\")\n",
    "sys.path.append(\"../sl/\")\n",
    "sys.path.append(\"../sid/\")\n",
    "\n",
    "from builder import Builder\n",
    "from loader import Loader\n",
    "from mylogger import MyLogger\n",
    "from sid_agent import SidAgent\n",
    "from sid_agent_factory import SidAgentFactory\n",
    "from sid_build_parameter import SidBuildParameter\n",
    "from sid_trainer_factory import SidTrainerFactory\n",
    "from store import Store\n",
    "from sid_evaluator import SidEvaluator\n",
    "from sid_evaluator_trend_viewer import SidEvaluatorTrendViewer\n",
    "from builtins import isinstance\n",
    "from cs02_environment_factory import Cs02EnvironmentFactory\n",
    "from cs02_build_parameter_factory import Cs02BuildParameterFactory\n",
    "from cs02_build_parameter import Cs02BuildParameter"
   ]
  },
  {
   "cell_type": "code",
   "execution_count": null,
   "metadata": {},
   "outputs": [],
   "source": [
    "trainingHistoryDbPath = \"cs02_training_history.sqlite\""
   ]
  },
  {
   "cell_type": "code",
   "execution_count": null,
   "metadata": {},
   "outputs": [],
   "source": [
    "target_casestudy = \"cs02a-01\""
   ]
  },
  {
   "cell_type": "markdown",
   "metadata": {},
   "source": [
    "## S400: Load trained agents to analyze them"
   ]
  },
  {
   "cell_type": "markdown",
   "metadata": {},
   "source": [
    "### SS410: initialize loader"
   ]
  },
  {
   "cell_type": "code",
   "execution_count": null,
   "metadata": {},
   "outputs": [],
   "source": [
    "agentFactory = SidAgentFactory()\n",
    "environmentFactory = Cs02EnvironmentFactory()\n",
    "trainerFactory = SidTrainerFactory()\n",
    "\n",
    "store = Store(trainingHistoryDbPath)\n",
    "\n",
    "buildParameterFactory = Cs02BuildParameterFactory()\n",
    "loader = Loader(agentFactory=agentFactory\n",
    "                , environmentFactory=environmentFactory\n",
    "                , trainerFactory=trainerFactory\n",
    "                , buildParameterFactory=buildParameterFactory\n",
    "                , store = store)"
   ]
  },
  {
   "cell_type": "markdown",
   "metadata": {},
   "source": [
    "### SS420: initialize evaluator"
   ]
  },
  {
   "cell_type": "code",
   "execution_count": null,
   "metadata": {},
   "outputs": [],
   "source": [
    "evaluator = SidEvaluator()\n",
    "evaluator_trend_viewer = SidEvaluatorTrendViewer(Nfig=3)"
   ]
  },
  {
   "cell_type": "markdown",
   "metadata": {},
   "source": [
    "### SS420: check the distribution of sids"
   ]
  },
  {
   "cell_type": "code",
   "execution_count": null,
   "metadata": {},
   "outputs": [],
   "source": [
    "tbl = {\n",
    "    \"epoch\": []\n",
    "    , \"score\": []\n",
    "    , \"criteria\": []\n",
    "}\n",
    "for agent, buildParameter, epoch, environment, trainer in loader.load(target_casestudy + \"%\"):\n",
    "    row = evaluator.evaluate(agent, buildParameter, epoch, environment, trainer)\n",
    "    for criteria in row:\n",
    "        tbl[\"epoch\"].append(epoch)\n",
    "        for key in buildParameter.__dict__:\n",
    "            if not key in tbl:\n",
    "                tbl[key] = []\n",
    "            tbl[key].append(buildParameter.__dict__[key])\n",
    "        tbl[\"criteria\"].append(criteria)\n",
    "        tbl[\"score\"].append(row[criteria])\n",
    "tbl = pd.DataFrame(tbl)"
   ]
  },
  {
   "cell_type": "code",
   "execution_count": null,
   "metadata": {},
   "outputs": [],
   "source": [
    "tbl.to_csv(\"%s_score.csv\" % target_casestudy)"
   ]
  },
  {
   "cell_type": "markdown",
   "metadata": {},
   "source": [
    "### SS430: check predicted trend for a given build configuration"
   ]
  },
  {
   "cell_type": "code",
   "execution_count": null,
   "metadata": {},
   "outputs": [],
   "source": [
    "buildParameterGiven = None\n",
    "for agent, buildParameter, epoch, environment, trainer in loader.load(target_casestudy + \"%\", buildParameterKey=buildParameterGiven):\n",
    "    if epoch == buildParameter.nEpoch:\n",
    "        figProp = evaluator_trend_viewer.evaluate(agent, buildParameter, epoch, environment, trainer)\n",
    "        print(figProp)\n",
    "        break"
   ]
  }
 ],
 "metadata": {
  "kernelspec": {
   "display_name": "Python 3",
   "language": "python",
   "name": "python3"
  },
  "language_info": {
   "codemirror_mode": {
    "name": "ipython",
    "version": 3
   },
   "file_extension": ".py",
   "mimetype": "text/x-python",
   "name": "python",
   "nbconvert_exporter": "python",
   "pygments_lexer": "ipython3",
   "version": "3.7.5"
  }
 },
 "nbformat": 4,
 "nbformat_minor": 2
}
