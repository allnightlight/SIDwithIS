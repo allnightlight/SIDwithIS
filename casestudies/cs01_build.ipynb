{
 "cells": [
  {
   "cell_type": "code",
   "execution_count": null,
   "metadata": {},
   "outputs": [],
   "source": [
    "# To mount\n",
    "from google.colab import drive\n",
    "drive.mount('/content/drive')\n",
    "\n",
    "# # To initialize the work environment\n",
    "# %cd /content/drive/My Drive/\n",
    "# !git clone https://github.com/allnightlight/SIDwithIS/casestudies -b casestudies\n",
    "\n",
    "# # To update the work environment\n",
    "# %cd /content/drive/My Drive/SIDwithIS\n",
    "# !git pull\n",
    "\n",
    "%cd /content/drive/My Drive/SIDwithIS/casestudies"
   ]
  },
  {
   "cell_type": "code",
   "execution_count": null,
   "metadata": {},
   "outputs": [],
   "source": [
    "import os\n",
    "import sys\n",
    "import numpy as np\n",
    "sys.path.append(\"../framework/\")\n",
    "sys.path.append(\"../sl/\")\n",
    "sys.path.append(\"../sid/\")\n",
    "\n",
    "from builder import Builder\n",
    "from loader import Loader\n",
    "from mylogger import MyLogger\n",
    "from sid_agent import SidAgent\n",
    "from sid_agent_factory import SidAgentFactory\n",
    "from sid_build_parameter import SidBuildParameter\n",
    "from sid_trainer_factory import SidTrainerFactory\n",
    "from store import Store\n",
    "from sid_evaluator import SidEvaluator\n",
    "from builtins import isinstance\n",
    "from cs01_environment_factory import Cs01EnvironmentFactory\n",
    "from cs01_build_parameter_factory import Cs01BuildParameterFactory\n",
    "from cs01_build_parameter import Cs01BuildParameter"
   ]
  },
  {
   "cell_type": "code",
   "execution_count": null,
   "metadata": {},
   "outputs": [],
   "source": [
    "trainingHistoryDbPath = \"cs01_training_history.sqlite\""
   ]
  },
  {
   "cell_type": "markdown",
   "metadata": {},
   "source": [
    "## S300: Run learning agents"
   ]
  },
  {
   "cell_type": "markdown",
   "metadata": {},
   "source": [
    "### SS310: initialize an instance of builder"
   ]
  },
  {
   "cell_type": "code",
   "execution_count": null,
   "metadata": {},
   "outputs": [],
   "source": [
    "agentFactory = SidAgentFactory()\n",
    "environmentFactory = Cs01EnvironmentFactory()\n",
    "trainerFactory = SidTrainerFactory()\n",
    "\n",
    "logger = MyLogger(console_print=True)\n",
    "store = Store(trainingHistoryDbPath)\n",
    "\n",
    "builder = Builder(agentFactory=agentFactory\n",
    "                  , environmentFactory=environmentFactory\n",
    "                  , trainerFactory=trainerFactory\n",
    "                  , store=store\n",
    "                  , logger = logger)"
   ]
  },
  {
   "cell_type": "markdown",
   "metadata": {},
   "source": [
    "### SS310: define instances of Sid. Build Params"
   ]
  },
  {
   "cell_type": "markdown",
   "metadata": {},
   "source": [
    "### SS330: run build"
   ]
  },
  {
   "cell_type": "code",
   "execution_count": null,
   "metadata": {},
   "outputs": [],
   "source": [
    "target_casestudy = \"cs01a-01\"\n",
    "cnt = 1\n",
    "nEpoch = 2**7\n",
    "N1 = 2**4 # prediction horizon\n",
    "\n",
    "while True:\n",
    "    \n",
    "    agentClass = np.random.choice((\"agent001\",))\n",
    "    N0 = int(np.random.choice((1, 2**2, 2**4)))\n",
    "    N1 = N1\n",
    "    NhiddenAgent = int(np.random.choice((2**1, 2**2, 2**4)))\n",
    "    sampling_balance = float(np.random.choice((0.1,0.5,0.9)))\n",
    "    use_offset_compensate = int(np.random.choice((0, 1)))\n",
    "    seed = int(np.random.randint(5))\n",
    "    \n",
    "    buildParameter = Cs01BuildParameter(\n",
    "        nIntervalSave= nEpoch//2\n",
    "        , nEpoch= nEpoch\n",
    "        , label= target_casestudy + \" %3d\" % cnt\n",
    "        , sampling_balance=sampling_balance\n",
    "        , NhiddenAgent=NhiddenAgent\n",
    "        , agentClass=\"agent001\"\n",
    "        , Nbatch=2 ** 6\n",
    "        , N0=N0\n",
    "        , N1=N1\n",
    "        , Ntrain=2 ** 11 - 2**7\n",
    "        , dampingConstantInitial=0.99\n",
    "        , use_offset_compensate=use_offset_compensate\n",
    "        , use_imbalanced_sampling=True\n",
    "        , seed = seed)\n",
    "    \n",
    "    builder.build(buildParameter)\n",
    "    cnt += 1"
   ]
  }
 ],
 "metadata": {
  "kernelspec": {
   "display_name": "Python 3",
   "language": "python",
   "name": "python3"
  },
  "language_info": {
   "codemirror_mode": {
    "name": "ipython",
    "version": 3
   },
   "file_extension": ".py",
   "mimetype": "text/x-python",
   "name": "python",
   "nbconvert_exporter": "python",
   "pygments_lexer": "ipython3",
   "version": "3.7.5"
  }
 },
 "nbformat": 4,
 "nbformat_minor": 2
}
