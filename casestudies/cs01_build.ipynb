{
 "cells": [
  {
   "cell_type": "code",
   "execution_count": null,
   "metadata": {},
   "outputs": [],
   "source": [
    "# To mount\n",
    "from google.colab import drive\n",
    "drive.mount('/content/drive')\n",
    "\n",
    "# # To initialize the work environment\n",
    "# %cd /content/drive/My Drive/\n",
    "# !git clone https://github.com/allnightlight/SIDwithIS/casestudies -b casestudies\n",
    "\n",
    "# # To update the work environment\n",
    "# %cd /content/drive/My Drive/SIDwithIS\n",
    "# !git pull\n",
    "\n",
    "%cd /content/drive/My Drive/SIDwithIS/casestudies"
   ]
  },
  {
   "cell_type": "code",
   "execution_count": null,
   "metadata": {},
   "outputs": [],
   "source": [
    "import os\n",
    "import sys\n",
    "sys.path.append(\"../framework/\")\n",
    "sys.path.append(\"../sl/\")\n",
    "sys.path.append(\"../sid/\")\n",
    "\n",
    "import numpy as np\n",
    "import matplotlib.pylab as plt\n",
    "from sid_environment import SidEnvironment\n",
    "from sid_environment_factory import SidEnvironmentFactory\n",
    "from sid_build_parameter import SidBuildParameter\n",
    "from sid_build_parameter_factory import SidBuildParameterFactory\n",
    "from builder import Builder\n",
    "from store import Store\n",
    "from sid_agent_factory import SidAgentFactory\n",
    "from sid_trainer_factory import SidTrainerFactory\n",
    "from mylogger import MyLogger\n",
    "\n",
    "from loader import Loader"
   ]
  },
  {
   "cell_type": "code",
   "execution_count": null,
   "metadata": {},
   "outputs": [],
   "source": [
    "trainingHistoryDbPath = \"training_history.sqlite\""
   ]
  },
  {
   "cell_type": "markdown",
   "metadata": {},
   "source": [
    "## S300: Run learning agents"
   ]
  },
  {
   "cell_type": "markdown",
   "metadata": {},
   "source": [
    "### SS310: initialize an instance of builder"
   ]
  },
  {
   "cell_type": "code",
   "execution_count": null,
   "metadata": {},
   "outputs": [],
   "source": [
    "agentFactory = SidAgentFactory()\n",
    "environmentFactory = SidEnvironmentFactory()\n",
    "trainerFactory = SidTrainerFactory()\n",
    "\n",
    "logger = MyLogger(console_print=True)\n",
    "store = Store(trainingHistoryDbPath)\n",
    "\n",
    "builder = Builder(agentFactory=agentFactory\n",
    "                  , environmentFactory=environmentFactory\n",
    "                  , trainerFactory=trainerFactory\n",
    "                  , store=store\n",
    "                  , logger = logger)"
   ]
  },
  {
   "cell_type": "markdown",
   "metadata": {},
   "source": [
    "### SS310: define instances of Sid. Build Params"
   ]
  },
  {
   "cell_type": "markdown",
   "metadata": {},
   "source": [
    "### SS330: run build"
   ]
  },
  {
   "cell_type": "code",
   "execution_count": null,
   "metadata": {},
   "outputs": [],
   "source": [
    "label = \"cs01a-02\"\n",
    "cnt = 1\n",
    "nEpoch = 2**7\n",
    "prob_step = 1/2**5\n",
    "NhiddenEnv = 2**2\n",
    "N1 = 2**4 # prediction horizon\n",
    "\n",
    "while True:\n",
    "    \n",
    "    agentClass = np.random.choice((\"agent001\",))\n",
    "    N0 = int(np.random.choice((1, 2**2, 2**4)))\n",
    "    N1 = N1\n",
    "    NhiddenAgent = int(np.random.choice((2**1, 2**2, 2**4)))\n",
    "    sampling_balance = float(np.random.choice((prob_step, 0.5)))\n",
    "    \n",
    "    arg = dict(\n",
    "        nIntervalSave=nEpoch//2\n",
    "        , nEpoch= nEpoch\n",
    "        , label=\"%s %03d\" % (label, cnt)\n",
    "        , Ny = 1\n",
    "        , Nu = 1\n",
    "        , Nw = 1\n",
    "        , prob_step = prob_step\n",
    "        , sampling_balance = sampling_balance\n",
    "        , environmentClass = \"SidEnvironmentImbalancedSampling\"\n",
    "        , NhiddenAgent=NhiddenAgent\n",
    "        , agentClass = agentClass\n",
    "        , Nbatch = 2**5\n",
    "        , N0 = N0\n",
    "        , N1 = N1\n",
    "        , seed=0\n",
    "        , NhiddenEnv = NhiddenEnv\n",
    "        , Ntrain = 2**10\n",
    "        , Ntest = 2**7\n",
    "        , T0 = 2**3\n",
    "        , T1 = 2**5\n",
    "        , dampingConstantInitial = 0.99\n",
    "        )\n",
    "    \n",
    "    buildParameter = SidBuildParameter(**arg)\n",
    "    builder.build(buildParameter)\n",
    "    cnt += 1"
   ]
  }
 ],
 "metadata": {
  "kernelspec": {
   "display_name": "Python 3",
   "language": "python",
   "name": "python3"
  },
  "language_info": {
   "codemirror_mode": {
    "name": "ipython",
    "version": 3
   },
   "file_extension": ".py",
   "mimetype": "text/x-python",
   "name": "python",
   "nbconvert_exporter": "python",
   "pygments_lexer": "ipython3",
   "version": "3.7.5"
  }
 },
 "nbformat": 4,
 "nbformat_minor": 2
}
