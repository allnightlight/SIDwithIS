{
 "cells": [
  {
   "cell_type": "code",
   "execution_count": null,
   "metadata": {},
   "outputs": [],
   "source": [
    "# To mount\n",
    "from google.colab import drive\n",
    "drive.mount('/content/drive')\n",
    "\n",
    "# # To initialize the work environment\n",
    "# %cd /content/drive/My Drive/\n",
    "# !git clone https://github.com/allnightlight/SIDwithIS/casestudies -b casestudies\n",
    "\n",
    "# # To update the work environment\n",
    "# %cd /content/drive/My Drive/SIDwithIS\n",
    "# !git pull\n",
    "\n",
    "%cd /content/drive/My Drive/SIDwithIS/casestudies"
   ]
  },
  {
   "cell_type": "code",
   "execution_count": null,
   "metadata": {},
   "outputs": [],
   "source": [
    "import os\n",
    "import sys\n",
    "import numpy as np\n",
    "sys.path.append(\"../framework/\")\n",
    "sys.path.append(\"../sl/\")\n",
    "sys.path.append(\"../sid/\")\n",
    "\n",
    "from builder import Builder\n",
    "from loader import Loader\n",
    "from mylogger import MyLogger\n",
    "from sid_agent import SidAgent\n",
    "from sid_agent_factory import SidAgentFactory\n",
    "from sid_build_parameter import SidBuildParameter\n",
    "from sid_trainer_factory import SidTrainerFactory\n",
    "from store import Store\n",
    "from sid_evaluator import SidEvaluator\n",
    "from builtins import isinstance\n",
    "from cs02_environment_factory import Cs02EnvironmentFactory\n",
    "from cs02_build_parameter_factory import Cs02BuildParameterFactory\n",
    "from cs02_build_parameter import Cs02BuildParameter"
   ]
  },
  {
   "cell_type": "code",
   "execution_count": null,
   "metadata": {},
   "outputs": [],
   "source": [
    "trainingHistoryDbPath = \"cs02_training_history.sqlite\""
   ]
  },
  {
   "cell_type": "code",
   "execution_count": null,
   "metadata": {},
   "outputs": [],
   "source": [
    "target_casestudy = \"cs02a-01\""
   ]
  },
  {
   "cell_type": "markdown",
   "metadata": {},
   "source": [
    "## S100: Create a test data set:"
   ]
  },
  {
   "cell_type": "code",
   "execution_count": null,
   "metadata": {},
   "outputs": [],
   "source": [
    "def generateTestData(dataFilePath):\n",
    "\n",
    "    Nsample = 2**12\n",
    "    Nu = 2\n",
    "    Ny = 3\n",
    "\n",
    "    Timestamp = np.arange(Nsample)\n",
    "    U = np.random.randn(Nsample, Nu)\n",
    "    Y = np.random.randn(Nsample, Ny)\n",
    "    Ev = np.random.randint(2, size=(Nsample,))\n",
    "\n",
    "    Y[np.random.rand(Nsample, Ny) < 1/2**5] = np.nan\n",
    "    U[np.random.rand(Nsample, Nu) < 1/2**5] = np.nan\n",
    "\n",
    "    tbl = []\n",
    "    header = [\"timestamp\", \"event\",] + [\"U%d\" % k1 for k1 in range(Nu)] + [\"Y%d\" % k1 for k1 in range(Ny)]\n",
    "    tbl.append(header)\n",
    "    for seg, ev, u, y in zip(Timestamp, Ev.astype(np.int), U, Y):    \n",
    "        row = [seg, ev, *u, *y]\n",
    "        tbl.append(row)\n",
    "\n",
    "    with open(dataFilePath, \"w\") as fp:\n",
    "        fp.write(\",\".join(header)+\"\\n\")\n",
    "        for line in tbl[1:]:\n",
    "            fp.write(\",\".join([str(elm) for elm in line])+\"\\n\")"
   ]
  },
  {
   "cell_type": "code",
   "execution_count": null,
   "metadata": {},
   "outputs": [],
   "source": [
    "dataFilePath = \"testData.csv\"\n",
    "generateTestData(dataFilePath)"
   ]
  },
  {
   "cell_type": "markdown",
   "metadata": {},
   "source": [
    "## S300: Run learning agents"
   ]
  },
  {
   "cell_type": "markdown",
   "metadata": {},
   "source": [
    "### SS310: initialize an instance of builder"
   ]
  },
  {
   "cell_type": "code",
   "execution_count": null,
   "metadata": {},
   "outputs": [],
   "source": [
    "agentFactory = SidAgentFactory()\n",
    "environmentFactory = Cs02EnvironmentFactory()\n",
    "trainerFactory = SidTrainerFactory()\n",
    "\n",
    "logger = MyLogger(console_print=True)\n",
    "store = Store(trainingHistoryDbPath)\n",
    "\n",
    "builder = Builder(agentFactory=agentFactory\n",
    "                  , environmentFactory=environmentFactory\n",
    "                  , trainerFactory=trainerFactory\n",
    "                  , store=store\n",
    "                  , logger = logger)"
   ]
  },
  {
   "cell_type": "markdown",
   "metadata": {},
   "source": [
    "### SS312: define prediction horizon"
   ]
  },
  {
   "cell_type": "code",
   "execution_count": null,
   "metadata": {},
   "outputs": [],
   "source": [
    "N1 = 2**4 # prediction horizon"
   ]
  },
  {
   "cell_type": "markdown",
   "metadata": {},
   "source": [
    "### SS320: build naive agents:"
   ]
  },
  {
   "cell_type": "code",
   "execution_count": null,
   "metadata": {},
   "outputs": [],
   "source": [
    "buildParameter = Cs02BuildParameter(\n",
    "    nEpoch= 0\n",
    "    , label= target_casestudy \n",
    "    , agentClass=\"agent_naive\"\n",
    "    , N1 = N1\n",
    "    , Ntrain=2 ** 11\n",
    "    , dataFilePath=dataFilePath)\n",
    "\n",
    "builder.build(buildParameter)"
   ]
  },
  {
   "cell_type": "markdown",
   "metadata": {},
   "source": [
    "### SS330: run build"
   ]
  },
  {
   "cell_type": "code",
   "execution_count": null,
   "metadata": {},
   "outputs": [],
   "source": [
    "cnt = 1\n",
    "nEpoch = 2**7\n",
    "\n",
    "while True:\n",
    "    \n",
    "    agentClass = np.random.choice((\"agent001\",))\n",
    "    N0 = int(np.random.choice((1, 2**2, 2**4)))\n",
    "    N1 = N1\n",
    "    NhiddenAgent = int(np.random.choice((2**1, 2**2, 2**4)))\n",
    "    sampling_balance = float(np.random.choice((0.1, 0.5, 0.9)))\n",
    "    use_offset_compensate = int(np.random.choice((0, 1)))\n",
    "    use_imbalanced_sampling = int(np.random.choice((0, 1)))\n",
    "    seed = int(np.random.randint(5))\n",
    "    \n",
    "    buildParameter = Cs02BuildParameter(\n",
    "        nIntervalSave= nEpoch//2\n",
    "        , nEpoch= nEpoch\n",
    "        , label= target_casestudy + \" %3d\" % cnt\n",
    "        , sampling_balance=sampling_balance\n",
    "        , NhiddenAgent=NhiddenAgent\n",
    "        , agentClass=\"agent001\"\n",
    "        , Nbatch=2 ** 6\n",
    "        , N0=N0\n",
    "        , N1=N1\n",
    "        , Ntrain=2 ** 11\n",
    "        , dampingConstantInitial=0.99\n",
    "        , use_offset_compensate=use_offset_compensate\n",
    "        , use_imbalanced_sampling=use_imbalanced_sampling\n",
    "        , dataFilePath=dataFilePath)\n",
    "    \n",
    "    builder.build(buildParameter)\n",
    "    cnt += 1"
   ]
  }
 ],
 "metadata": {
  "kernelspec": {
   "display_name": "Python 3",
   "language": "python",
   "name": "python3"
  },
  "language_info": {
   "codemirror_mode": {
    "name": "ipython",
    "version": 3
   },
   "file_extension": ".py",
   "mimetype": "text/x-python",
   "name": "python",
   "nbconvert_exporter": "python",
   "pygments_lexer": "ipython3",
   "version": "3.7.5"
  }
 },
 "nbformat": 4,
 "nbformat_minor": 2
}
