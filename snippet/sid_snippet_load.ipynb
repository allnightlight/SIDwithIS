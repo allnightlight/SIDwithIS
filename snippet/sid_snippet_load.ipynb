{
 "cells": [
  {
   "cell_type": "code",
   "execution_count": null,
   "metadata": {},
   "outputs": [],
   "source": [
    "import os\n",
    "import sys\n",
    "sys.path.append(\"../framework/\")\n",
    "sys.path.append(\"../sl/\")\n",
    "sys.path.append(\"../sid/\")\n",
    "\n",
    "import numpy as np\n",
    "import matplotlib.pylab as plt\n",
    "import pandas as pd\n",
    "\n",
    "from sid_environment import SidEnvironment\n",
    "from sid_environment_factory import SidEnvironmentFactory\n",
    "from sid_build_parameter import SidBuildParameter\n",
    "from sid_build_parameter_factory import SidBuildParameterFactory\n",
    "from builder import Builder\n",
    "from sid_evaluator import SidEvaluator\n",
    "from store import Store\n",
    "from sid_agent_factory import SidAgentFactory\n",
    "from sid_trainer_factory import SidTrainerFactory\n",
    "from mylogger import MyLogger\n",
    "\n",
    "from loader import Loader"
   ]
  },
  {
   "cell_type": "code",
   "execution_count": null,
   "metadata": {},
   "outputs": [],
   "source": [
    "trainingHistoryDbPath = \"training_history.sqlite\""
   ]
  },
  {
   "cell_type": "markdown",
   "metadata": {},
   "source": [
    "## S400: Load trained agents to analyze them"
   ]
  },
  {
   "cell_type": "markdown",
   "metadata": {},
   "source": [
    "### SS410: initialize loader"
   ]
  },
  {
   "cell_type": "code",
   "execution_count": null,
   "metadata": {},
   "outputs": [],
   "source": [
    "agentFactory = SidAgentFactory()\n",
    "environmentFactory = SidEnvironmentFactory()\n",
    "trainerFactory = SidTrainerFactory()\n",
    "\n",
    "store = Store(trainingHistoryDbPath)\n",
    "\n",
    "buildParameterFactory = SidBuildParameterFactory()\n",
    "loader = Loader(agentFactory=agentFactory\n",
    "                , environmentFactory=environmentFactory\n",
    "                , trainerFactory=trainerFactory\n",
    "                , buildParameterFactory=buildParameterFactory\n",
    "                , store = store)"
   ]
  },
  {
   "cell_type": "markdown",
   "metadata": {},
   "source": [
    "### SS420: initialize evaluator"
   ]
  },
  {
   "cell_type": "code",
   "execution_count": null,
   "metadata": {},
   "outputs": [],
   "source": [
    "evaluator = SidEvaluator()"
   ]
  },
  {
   "cell_type": "markdown",
   "metadata": {},
   "source": [
    "### SS420: check the distribution of sids"
   ]
  },
  {
   "cell_type": "code",
   "execution_count": null,
   "metadata": {},
   "outputs": [],
   "source": [
    "tbl = {\n",
    "    \"epoch\": []\n",
    "    , \"score\": []\n",
    "    , \"criteria\": []\n",
    "}\n",
    "for agent, buildParameter, epoch, environment, trainer in loader.load(\"test%\"):\n",
    "    row = evaluator.evaluate(agent, buildParameter, epoch, environment, trainer)\n",
    "    for criteria in row:\n",
    "        tbl[\"epoch\"].append(epoch)\n",
    "        for key in buildParameter.__dict__:\n",
    "            if not key in tbl:\n",
    "                tbl[key] = []\n",
    "            tbl[key].append(buildParameter.__dict__[key])\n",
    "        tbl[\"criteria\"].append(criteria)\n",
    "        tbl[\"score\"].append(row[criteria])\n",
    "tbl = pd.DataFrame(tbl)"
   ]
  },
  {
   "cell_type": "code",
   "execution_count": null,
   "metadata": {},
   "outputs": [],
   "source": [
    "tbl"
   ]
  }
 ],
 "metadata": {
  "kernelspec": {
   "display_name": "Python 3",
   "language": "python",
   "name": "python3"
  },
  "language_info": {
   "codemirror_mode": {
    "name": "ipython",
    "version": 3
   },
   "file_extension": ".py",
   "mimetype": "text/x-python",
   "name": "python",
   "nbconvert_exporter": "python",
   "pygments_lexer": "ipython3",
   "version": "3.7.5"
  }
 },
 "nbformat": 4,
 "nbformat_minor": 2
}
