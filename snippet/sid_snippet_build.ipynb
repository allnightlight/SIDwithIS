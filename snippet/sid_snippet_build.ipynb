{
 "cells": [
  {
   "cell_type": "code",
   "execution_count": null,
   "metadata": {},
   "outputs": [],
   "source": [
    "import os\n",
    "import sys\n",
    "sys.path.append(\"../framework/\")\n",
    "sys.path.append(\"../sl/\")\n",
    "sys.path.append(\"../sid/\")\n",
    "\n",
    "import numpy as np\n",
    "import matplotlib.pylab as plt\n",
    "from sid_environment import SidEnvironment\n",
    "from sid_environment_factory import SidEnvironmentFactory\n",
    "from sid_build_parameter import SidBuildParameter\n",
    "from sid_build_parameter_factory import SidBuildParameterFactory\n",
    "from builder import Builder\n",
    "from store import Store\n",
    "from sid_agent_factory import SidAgentFactory\n",
    "from sid_trainer_factory import SidTrainerFactory\n",
    "from mylogger import MyLogger\n",
    "\n",
    "from loader import Loader"
   ]
  },
  {
   "cell_type": "code",
   "execution_count": null,
   "metadata": {},
   "outputs": [],
   "source": [
    "trainingHistoryDbPath = \"training_history.sqlite\""
   ]
  },
  {
   "cell_type": "markdown",
   "metadata": {},
   "source": [
    "## S100: Define Conc. Env. to be modeled by deriving SidEnv."
   ]
  },
  {
   "cell_type": "markdown",
   "metadata": {},
   "source": [
    "### SS110: define ConcEnv => SKIP"
   ]
  },
  {
   "cell_type": "markdown",
   "metadata": {},
   "source": [
    "### SS120: define ConcEnvFactory => SKIP"
   ]
  },
  {
   "cell_type": "markdown",
   "metadata": {},
   "source": [
    "## S200: Define Conc. Build Param. "
   ]
  },
  {
   "cell_type": "markdown",
   "metadata": {},
   "source": [
    "### SS210: define ConcBuildParameter => SKIP"
   ]
  },
  {
   "cell_type": "markdown",
   "metadata": {},
   "source": [
    "### SS220: define ConcBuildParameterFactory  => SKIP"
   ]
  },
  {
   "cell_type": "markdown",
   "metadata": {},
   "source": [
    "## S300: Run learning agents"
   ]
  },
  {
   "cell_type": "markdown",
   "metadata": {},
   "source": [
    "### SS310: define instances of Sid. Build Params"
   ]
  },
  {
   "cell_type": "code",
   "execution_count": null,
   "metadata": {},
   "outputs": [],
   "source": [
    "nBuild = 10\n",
    "buildParameters = []\n",
    "for k1 in range(nBuild):\n",
    "    \n",
    "    label = \"test %3d/%3d\" % (k1, nBuild)\n",
    "    agentClass = np.random.choice((\"agent001\",))\n",
    "    N0 = int(np.random.choice((1, 2**2, 2**4)))\n",
    "    N1 = int(np.random.choice((1, 2**2, 2**4)))\n",
    "    Nhidden = 2**2\n",
    "    \n",
    "    arg = dict(\n",
    "        nIntervalSave=2 ** 4\n",
    "        , nEpoch= 2 ** 6\n",
    "        , label=label\n",
    "        , Ny = 1\n",
    "        , Nu = 1\n",
    "        , Nw = 1\n",
    "        , prob_step = 1/2**3\n",
    "        , sampling_balance = 0.5\n",
    "        , environmentClass = \"SidEnvironmentImbalancedSampling\"\n",
    "        , NhiddenAgent=Nhidden\n",
    "        , agentClass = agentClass\n",
    "        , Nbatch = 2**5\n",
    "        , N0 = N0\n",
    "        , N1 = N1\n",
    "        , seed=0\n",
    "        , NhiddenEnv = Nhidden\n",
    "        , Ntrain = 2**10\n",
    "        , Ntest = 2**7\n",
    "        , T0 = 2**3\n",
    "        , T1=2**5\n",
    "        , dampingConstantInitial = 0.99\n",
    "        )\n",
    "    \n",
    "    buildParameters.append(SidBuildParameter(**arg))"
   ]
  },
  {
   "cell_type": "markdown",
   "metadata": {},
   "source": [
    "### SS320: initialize an instance of builder"
   ]
  },
  {
   "cell_type": "code",
   "execution_count": null,
   "metadata": {},
   "outputs": [],
   "source": [
    "agentFactory = SidAgentFactory()\n",
    "environmentFactory = SidEnvironmentFactory()\n",
    "trainerFactory = SidTrainerFactory()\n",
    "\n",
    "logger = MyLogger(console_print=True)\n",
    "store = Store(trainingHistoryDbPath)\n",
    "\n",
    "builder = Builder(agentFactory=agentFactory\n",
    "                  , environmentFactory=environmentFactory\n",
    "                  , trainerFactory=trainerFactory\n",
    "                  , store=store\n",
    "                  , logger = logger)"
   ]
  },
  {
   "cell_type": "markdown",
   "metadata": {},
   "source": [
    "### SS330: run build"
   ]
  },
  {
   "cell_type": "code",
   "execution_count": null,
   "metadata": {},
   "outputs": [],
   "source": [
    "for buildParameter in buildParameters:\n",
    "    builder.build(buildParameter)"
   ]
  }
 ],
 "metadata": {
  "kernelspec": {
   "display_name": "Python 3",
   "language": "python",
   "name": "python3"
  },
  "language_info": {
   "codemirror_mode": {
    "name": "ipython",
    "version": 3
   },
   "file_extension": ".py",
   "mimetype": "text/x-python",
   "name": "python",
   "nbconvert_exporter": "python",
   "pygments_lexer": "ipython3",
   "version": "3.7.5"
  }
 },
 "nbformat": 4,
 "nbformat_minor": 2
}
